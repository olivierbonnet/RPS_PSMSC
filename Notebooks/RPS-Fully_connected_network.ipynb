{
 "cells": [
  {
   "cell_type": "markdown",
   "metadata": {},
   "source": [
    "# Rock-paper-scissors: fully connected network\n",
    "\n",
    "## Instructions\n",
    "1. Download this Jupyter notebook in your computer;",
    "2. Go to your folder that contains this notebook, and create another folder named *RPS*;",
    "3. Go to my shared [Google Drive folder](https://drive.google.com/drive/folders/1vVqezqGbrrmMi9TM4DwbJAPbsAm7XxY_?usp=sharing), download the folders named *Test* and *Train*, and uncompress them into your newly created *RPS* folder;",
    "4. Execute this notebook."
   ]
  },
  {
   "cell_type": "code",
   "execution_count": 1,
   "metadata": {},
   "outputs": [],
   "source": [
    "# IMPORTS :\n",
    "\n",
    "import numpy\n",
    "import numpy as np\n",
    "import torch\n",
    "import torch.nn as nn\n",
    "import torch.nn.functional as F\n",
    "import torch.utils.data.dataloader as dataloader\n",
    "import torch.optim as optim\n",
    "\n",
    "from torch.utils.data import TensorDataset\n",
    "from torch.autograd import Variable\n",
    "from torchvision import transforms\n",
    "from torchvision.datasets import MNIST, ImageFolder, DatasetFolder\n",
    "import matplotlib.pyplot as plt\n",
    "\n",
    "\n",
    "SEED = 1\n",
    "\n",
    "# CUDA?\n",
    "cuda = torch.cuda.is_available()\n",
    "\n",
    "# For reproducibility\n",
    "torch.manual_seed(SEED)\n",
    "\n",
    "if cuda:\n",
    "    torch.cuda.manual_seed(SEED)"
   ]
  },
  {
   "cell_type": "code",
   "execution_count": 38,
   "metadata": {},
   "outputs": [
    {
     "name": "stdout",
     "output_type": "stream",
     "text": [
      "Training data: Dataset ImageFolder\n",
      "    Number of datapoints: 202\n",
      "    Root Location: ./PPC/Train2/\n",
      "    Transforms (if any): Compose(\n",
      "                             Grayscale(num_output_channels=1)\n",
      "                             ToTensor()\n",
      "                         )\n",
      "    Target Transforms (if any): None\n",
      "\n",
      "Test data: Dataset ImageFolder\n",
      "    Number of datapoints: 20\n",
      "    Root Location: ./PPC/Test2/\n",
      "    Transforms (if any): Compose(\n",
      "                             Grayscale(num_output_channels=1)\n",
      "                             ToTensor()\n",
      "                         )\n",
      "    Target Transforms (if any): None\n"
     ]
    }
   ],
   "source": [
    "# Transformation :\n",
    "t = transforms.Compose([transforms.Grayscale(), transforms.ToTensor(),])\n",
    "\n",
    "train = ImageFolder('./RPS/Train/', transform = t)\n",
    "test = ImageFolder('./RPS/Test/', transform = t)\n",
    "\n",
    "print(\"Training data:\", train)\n",
    "print(\"\\nTest data:\", test)\n",
    "\n",
    "# Create DataLoader\n",
    "dataloader_args = dict(shuffle=True, batch_size=20,num_workers=4, pin_memory=True) if cuda else dict(shuffle=True, batch_size=20)\n",
    "train_loader = dataloader.DataLoader(train, **dataloader_args)\n",
    "\n",
    "dataloader_args = dict(shuffle=True, batch_size=len(test),num_workers=4, pin_memory=True)\n",
    "test_loader = dataloader.DataLoader(test, **dataloader_args)"
   ]
  },
  {
   "cell_type": "code",
   "execution_count": 39,
   "metadata": {},
   "outputs": [],
   "source": [
    "# One hidden Layer NN\n",
    "class Model(nn.Module):\n",
    "    def __init__(self):\n",
    "        super(Model, self).__init__()\n",
    "        self.fc = nn.Linear(1024, 1000)\n",
    "        self.fc2 = nn.Linear(1000, 10)\n",
    "\n",
    "    def forward(self, x):\n",
    "        x = x.view((-1, 1024))\n",
    "        h = F.relu(self.fc(x))\n",
    "        h = self.fc2(h)\n",
    "        return F.log_softmax(h, dim=0)    \n",
    "    \n",
    "    \n",
    "model = Model()\n",
    "if cuda:\n",
    "    model.cuda()\n",
    "optimizer = optim.Adam(model.parameters(), lr=1e-3)"
   ]
  },
  {
   "cell_type": "code",
   "execution_count": 43,
   "metadata": {},
   "outputs": [
    {
     "name": "stdout",
     "output_type": "stream",
     "text": [
      " Train Epoch: 1/20 [202/202 (99%)]\tLoss: 2.191867\t Test Accuracy: 65.0000%\n",
      " Train Epoch: 2/20 [202/202 (99%)]\tLoss: 1.375263\t Test Accuracy: 75.0000%\n",
      " Train Epoch: 3/20 [202/202 (99%)]\tLoss: 1.383309\t Test Accuracy: 45.0000%\n",
      " Train Epoch: 4/20 [202/202 (99%)]\tLoss: 1.436583\t Test Accuracy: 60.0000%\n",
      " Train Epoch: 5/20 [202/202 (99%)]\tLoss: 1.277647\t Test Accuracy: 70.0000%\n",
      " Train Epoch: 6/20 [202/202 (99%)]\tLoss: 1.402017\t Test Accuracy: 50.0000%\n",
      " Train Epoch: 7/20 [202/202 (99%)]\tLoss: 1.457348\t Test Accuracy: 75.0000%\n",
      " Train Epoch: 8/20 [202/202 (99%)]\tLoss: 1.760037\t Test Accuracy: 60.0000%\n",
      " Train Epoch: 9/20 [202/202 (99%)]\tLoss: 1.380450\t Test Accuracy: 85.0000%\n",
      " Train Epoch: 10/20 [202/202 (99%)]\tLoss: 1.506277\t Test Accuracy: 70.0000%\n",
      " Train Epoch: 11/20 [202/202 (99%)]\tLoss: 1.780278\t Test Accuracy: 20.0000%\n",
      " Train Epoch: 12/20 [202/202 (99%)]\tLoss: 2.189299\t Test Accuracy: 90.0000%\n",
      " Train Epoch: 13/20 [202/202 (99%)]\tLoss: 1.393154\t Test Accuracy: 60.0000%\n",
      " Train Epoch: 14/20 [202/202 (99%)]\tLoss: 1.989138\t Test Accuracy: 40.0000%\n",
      " Train Epoch: 15/20 [202/202 (99%)]\tLoss: 1.346701\t Test Accuracy: 80.0000%\n",
      " Train Epoch: 16/20 [202/202 (99%)]\tLoss: 1.145433\t Test Accuracy: 55.0000%\n",
      " Train Epoch: 17/20 [202/202 (99%)]\tLoss: 1.146421\t Test Accuracy: 85.0000%\n",
      " Train Epoch: 18/20 [202/202 (99%)]\tLoss: 1.310268\t Test Accuracy: 65.0000%\n",
      " Train Epoch: 19/20 [202/202 (99%)]\tLoss: 1.206612\t Test Accuracy: 65.0000%\n",
      " Train Epoch: 20/20 [202/202 (99%)]\tLoss: 2.958516\t Test Accuracy: 75.0000%\n"
     ]
    }
   ],
   "source": [
    "EPOCHS = 20\n",
    "losses = []\n",
    "\n",
    "# Eval\n",
    "data_iter = iter(train_loader)\n",
    "evaluate_x, evaluate_y = data_iter.next()\n",
    "\n",
    "if cuda:\n",
    "    evaluate_x, evaluate_y = evaluate_x.cuda(), evaluate_y.cuda()\n",
    "train_size = len(train_loader.dataset)\n",
    "batch_size = (train_size / 20) if (cuda) else  (train_size / 20)\n",
    "\n",
    "model.train()\n",
    "for epoch in range(EPOCHS):\n",
    "    for batch_idx, (data, target) in enumerate(train_loader):\n",
    "        # Get Samples\n",
    "        data, target = Variable(data), Variable(target)\n",
    "        \n",
    "        if cuda:\n",
    "            data, target = data.cuda(), target.cuda()\n",
    "        \n",
    "        # Init\n",
    "        optimizer.zero_grad()\n",
    "\n",
    "        # Predict\n",
    "        y_pred = model(data) \n",
    "\n",
    "         \n",
    "        # Calculate loss\n",
    "        loss = F.cross_entropy(y_pred, target)\n",
    "        losses.append(loss.cpu().item())\n",
    "        # Backpropagation\n",
    "        loss.backward()\n",
    "        optimizer.step()\n",
    "        \n",
    "        \n",
    "        # Display\n",
    "        if batch_idx % 100 == 1:\n",
    "            print('\\r Train Epoch: {}/{} [{}/{} ({:.0f}%)]\\tLoss: {:.6f}'.format(\n",
    "                epoch+1,\n",
    "                EPOCHS,\n",
    "                batch_idx * len(data), \n",
    "                train_size,\n",
    "                100. * batch_idx / batch_size, \n",
    "                loss.cpu().item()), \n",
    "                end='')\n",
    "\n",
    "    # display final evaluation for this epoch\n",
    "    model.eval()\n",
    "    output = model(evaluate_x)\n",
    "    pred = output.data.max(1)[1]\n",
    "    d = pred.eq(evaluate_y.data).cpu()\n",
    "    accuracy = d.sum().item()/d.size()[0]\n",
    "    \n",
    "    print('\\r Train Epoch: {}/{} [{}/{} ({:.0f}%)]\\tLoss: {:.6f}\\t Test Accuracy: {:.4f}%'.format(\n",
    "        epoch+1,\n",
    "        EPOCHS,\n",
    "        train_size, \n",
    "        train_size,\n",
    "        100. * batch_idx / batch_size, \n",
    "        loss.cpu().item(),\n",
    "        accuracy*100,\n",
    "        end=''))"
   ]
  },
  {
   "cell_type": "code",
   "execution_count": 44,
   "metadata": {},
   "outputs": [
    {
     "data": {
      "text/plain": [
       "[<matplotlib.lines.Line2D at 0x7f42ed33a128>]"
      ]
     },
     "execution_count": 44,
     "metadata": {},
     "output_type": "execute_result"
    },
    {
     "data": {
      "image/png": "[encoded data removed]",
      "text/plain": [
       "<Figure size 432x288 with 1 Axes>"
      ]
     },
     "metadata": {
      "needs_background": "light"
     },
     "output_type": "display_data"
    }
   ],
   "source": [
    "# Evolution des résultats de la fonction \"loss\" :\n",
    "plt.plot(losses)"
   ]
  },
  {
   "cell_type": "code",
   "execution_count": 48,
   "metadata": {},
   "outputs": [
    {
     "name": "stdout",
     "output_type": "stream",
     "text": [
      "Accuracy: 75.0 %\n"
     ]
    }
   ],
   "source": [
    "model.eval()\n",
    "output = model(evaluate_x)\n",
    "pred = output.data.max(1)[1]\n",
    "d = pred.eq(evaluate_y.data).cpu()\n",
    "accuracy = d.sum().item()/d.size()[0]\n",
    "print('Accuracy:', accuracy*100, '%')"
   ]
  },
  {
   "cell_type": "markdown",
   "metadata": {},
   "source": [
    "à envoyer à : pboudier09@gmail.com"
   ]
  }
 ],
 "metadata": {
  "kernelspec": {
   "display_name": "Python 3",
   "language": "python",
   "name": "python3"
  },
  "language_info": {
   "codemirror_mode": {
    "name": "ipython",
    "version": 3
   },
   "file_extension": ".py",
   "mimetype": "text/x-python",
   "name": "python",
   "nbconvert_exporter": "python",
   "pygments_lexer": "ipython3",
   "version": "3.6.6"
  }
 },
 "nbformat": 4,
 "nbformat_minor": 2
}
